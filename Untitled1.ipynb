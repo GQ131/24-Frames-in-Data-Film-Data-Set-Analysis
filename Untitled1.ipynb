{
  "nbformat": 4,
  "nbformat_minor": 0,
  "metadata": {
    "colab": {
      "provenance": [],
      "authorship_tag": "ABX9TyNrHyqhHcsZwcC0mIbpbKhR",
      "include_colab_link": true
    },
    "kernelspec": {
      "name": "python3",
      "display_name": "Python 3"
    },
    "language_info": {
      "name": "python"
    }
  },
  "cells": [
    {
      "cell_type": "markdown",
      "metadata": {
        "id": "view-in-github",
        "colab_type": "text"
      },
      "source": [
        "<a href=\"https://colab.research.google.com/github/GQ131/24-Frames-in-Data-Film-Data-Set-Analysis/blob/main/Untitled1.ipynb\" target=\"_parent\"><img src=\"https://colab.research.google.com/assets/colab-badge.svg\" alt=\"Open In Colab\"/></a>"
      ]
    },
    {
      "cell_type": "code",
      "execution_count": 1,
      "metadata": {
        "id": "XEqpIlq07pc4"
      },
      "outputs": [],
      "source": [
        "import pandas as pd"
      ]
    },
    {
      "cell_type": "code",
      "source": [
        "# Upload  Excel file\n",
        "from google.colab import files\n",
        "uploaded = files.upload()"
      ],
      "metadata": {
        "colab": {
          "base_uri": "https://localhost:8080/",
          "height": 116
        },
        "id": "ACqJyCNw-WhA",
        "outputId": "c97e7d7b-04f7-4475-8881-f1c33ad3caa3"
      },
      "execution_count": 2,
      "outputs": [
        {
          "output_type": "display_data",
          "data": {
            "text/plain": [
              "<IPython.core.display.HTML object>"
            ],
            "text/html": [
              "\n",
              "     <input type=\"file\" id=\"files-a394b38d-a3ae-4149-9068-53d9e09ad409\" name=\"files[]\" multiple disabled\n",
              "        style=\"border:none\" />\n",
              "     <output id=\"result-a394b38d-a3ae-4149-9068-53d9e09ad409\">\n",
              "      Upload widget is only available when the cell has been executed in the\n",
              "      current browser session. Please rerun this cell to enable.\n",
              "      </output>\n",
              "      <script>// Copyright 2017 Google LLC\n",
              "//\n",
              "// Licensed under the Apache License, Version 2.0 (the \"License\");\n",
              "// you may not use this file except in compliance with the License.\n",
              "// You may obtain a copy of the License at\n",
              "//\n",
              "//      http://www.apache.org/licenses/LICENSE-2.0\n",
              "//\n",
              "// Unless required by applicable law or agreed to in writing, software\n",
              "// distributed under the License is distributed on an \"AS IS\" BASIS,\n",
              "// WITHOUT WARRANTIES OR CONDITIONS OF ANY KIND, either express or implied.\n",
              "// See the License for the specific language governing permissions and\n",
              "// limitations under the License.\n",
              "\n",
              "/**\n",
              " * @fileoverview Helpers for google.colab Python module.\n",
              " */\n",
              "(function(scope) {\n",
              "function span(text, styleAttributes = {}) {\n",
              "  const element = document.createElement('span');\n",
              "  element.textContent = text;\n",
              "  for (const key of Object.keys(styleAttributes)) {\n",
              "    element.style[key] = styleAttributes[key];\n",
              "  }\n",
              "  return element;\n",
              "}\n",
              "\n",
              "// Max number of bytes which will be uploaded at a time.\n",
              "const MAX_PAYLOAD_SIZE = 100 * 1024;\n",
              "\n",
              "function _uploadFiles(inputId, outputId) {\n",
              "  const steps = uploadFilesStep(inputId, outputId);\n",
              "  const outputElement = document.getElementById(outputId);\n",
              "  // Cache steps on the outputElement to make it available for the next call\n",
              "  // to uploadFilesContinue from Python.\n",
              "  outputElement.steps = steps;\n",
              "\n",
              "  return _uploadFilesContinue(outputId);\n",
              "}\n",
              "\n",
              "// This is roughly an async generator (not supported in the browser yet),\n",
              "// where there are multiple asynchronous steps and the Python side is going\n",
              "// to poll for completion of each step.\n",
              "// This uses a Promise to block the python side on completion of each step,\n",
              "// then passes the result of the previous step as the input to the next step.\n",
              "function _uploadFilesContinue(outputId) {\n",
              "  const outputElement = document.getElementById(outputId);\n",
              "  const steps = outputElement.steps;\n",
              "\n",
              "  const next = steps.next(outputElement.lastPromiseValue);\n",
              "  return Promise.resolve(next.value.promise).then((value) => {\n",
              "    // Cache the last promise value to make it available to the next\n",
              "    // step of the generator.\n",
              "    outputElement.lastPromiseValue = value;\n",
              "    return next.value.response;\n",
              "  });\n",
              "}\n",
              "\n",
              "/**\n",
              " * Generator function which is called between each async step of the upload\n",
              " * process.\n",
              " * @param {string} inputId Element ID of the input file picker element.\n",
              " * @param {string} outputId Element ID of the output display.\n",
              " * @return {!Iterable<!Object>} Iterable of next steps.\n",
              " */\n",
              "function* uploadFilesStep(inputId, outputId) {\n",
              "  const inputElement = document.getElementById(inputId);\n",
              "  inputElement.disabled = false;\n",
              "\n",
              "  const outputElement = document.getElementById(outputId);\n",
              "  outputElement.innerHTML = '';\n",
              "\n",
              "  const pickedPromise = new Promise((resolve) => {\n",
              "    inputElement.addEventListener('change', (e) => {\n",
              "      resolve(e.target.files);\n",
              "    });\n",
              "  });\n",
              "\n",
              "  const cancel = document.createElement('button');\n",
              "  inputElement.parentElement.appendChild(cancel);\n",
              "  cancel.textContent = 'Cancel upload';\n",
              "  const cancelPromise = new Promise((resolve) => {\n",
              "    cancel.onclick = () => {\n",
              "      resolve(null);\n",
              "    };\n",
              "  });\n",
              "\n",
              "  // Wait for the user to pick the files.\n",
              "  const files = yield {\n",
              "    promise: Promise.race([pickedPromise, cancelPromise]),\n",
              "    response: {\n",
              "      action: 'starting',\n",
              "    }\n",
              "  };\n",
              "\n",
              "  cancel.remove();\n",
              "\n",
              "  // Disable the input element since further picks are not allowed.\n",
              "  inputElement.disabled = true;\n",
              "\n",
              "  if (!files) {\n",
              "    return {\n",
              "      response: {\n",
              "        action: 'complete',\n",
              "      }\n",
              "    };\n",
              "  }\n",
              "\n",
              "  for (const file of files) {\n",
              "    const li = document.createElement('li');\n",
              "    li.append(span(file.name, {fontWeight: 'bold'}));\n",
              "    li.append(span(\n",
              "        `(${file.type || 'n/a'}) - ${file.size} bytes, ` +\n",
              "        `last modified: ${\n",
              "            file.lastModifiedDate ? file.lastModifiedDate.toLocaleDateString() :\n",
              "                                    'n/a'} - `));\n",
              "    const percent = span('0% done');\n",
              "    li.appendChild(percent);\n",
              "\n",
              "    outputElement.appendChild(li);\n",
              "\n",
              "    const fileDataPromise = new Promise((resolve) => {\n",
              "      const reader = new FileReader();\n",
              "      reader.onload = (e) => {\n",
              "        resolve(e.target.result);\n",
              "      };\n",
              "      reader.readAsArrayBuffer(file);\n",
              "    });\n",
              "    // Wait for the data to be ready.\n",
              "    let fileData = yield {\n",
              "      promise: fileDataPromise,\n",
              "      response: {\n",
              "        action: 'continue',\n",
              "      }\n",
              "    };\n",
              "\n",
              "    // Use a chunked sending to avoid message size limits. See b/62115660.\n",
              "    let position = 0;\n",
              "    do {\n",
              "      const length = Math.min(fileData.byteLength - position, MAX_PAYLOAD_SIZE);\n",
              "      const chunk = new Uint8Array(fileData, position, length);\n",
              "      position += length;\n",
              "\n",
              "      const base64 = btoa(String.fromCharCode.apply(null, chunk));\n",
              "      yield {\n",
              "        response: {\n",
              "          action: 'append',\n",
              "          file: file.name,\n",
              "          data: base64,\n",
              "        },\n",
              "      };\n",
              "\n",
              "      let percentDone = fileData.byteLength === 0 ?\n",
              "          100 :\n",
              "          Math.round((position / fileData.byteLength) * 100);\n",
              "      percent.textContent = `${percentDone}% done`;\n",
              "\n",
              "    } while (position < fileData.byteLength);\n",
              "  }\n",
              "\n",
              "  // All done.\n",
              "  yield {\n",
              "    response: {\n",
              "      action: 'complete',\n",
              "    }\n",
              "  };\n",
              "}\n",
              "\n",
              "scope.google = scope.google || {};\n",
              "scope.google.colab = scope.google.colab || {};\n",
              "scope.google.colab._files = {\n",
              "  _uploadFiles,\n",
              "  _uploadFilesContinue,\n",
              "};\n",
              "})(self);\n",
              "</script> "
            ]
          },
          "metadata": {}
        },
        {
          "output_type": "stream",
          "name": "stdout",
          "text": [
            "Saving LWDA_Farmworker_Engagement_MASTER_3_28_23_Tableau .xlsx to LWDA_Farmworker_Engagement_MASTER_3_28_23_Tableau .xlsx\n"
          ]
        }
      ]
    },
    {
      "cell_type": "code",
      "source": [
        "# After uploading, `uploaded` is a dict like {'agencies.xlsx': b'...bytes...'}\n",
        "# Grab the filename:\n",
        "excel_filename = list(uploaded.keys())[0]\n",
        "print(f\"✔️  Uploaded: {excel_filename}\\n\")"
      ],
      "metadata": {
        "colab": {
          "base_uri": "https://localhost:8080/"
        },
        "id": "CH-dmr-E-Wj5",
        "outputId": "5f183c76-6c3c-4a84-f3d0-ab10eb434166"
      },
      "execution_count": 3,
      "outputs": [
        {
          "output_type": "stream",
          "name": "stdout",
          "text": [
            "✔️  Uploaded: LWDA_Farmworker_Engagement_MASTER_3_28_23_Tableau .xlsx\n",
            "\n"
          ]
        }
      ]
    },
    {
      "cell_type": "markdown",
      "source": [
        "## Clean and Standardize"
      ],
      "metadata": {
        "id": "wvWCaWDE_X0_"
      }
    },
    {
      "cell_type": "code",
      "source": [
        "# 3) Read Each Sheet into a pandas DataFrame\n",
        "# -------------------------------------------\n",
        "# Adjust sheet_name= accordingly if your tab names differ exactly.\n",
        "#\n",
        "# Per your description:\n",
        "# - Sheet 1 contains CBOs\n",
        "# - Sheet 2 contains LEAs locations\n",
        "# - Sheet 3 contains LWDA locations\n",
        "#\n",
        "# If your workbook tabs are named differently, replace with your actual tab names.\n",
        "\n",
        "cbos_raw = pd.read_excel(excel_filename, sheet_name='CBOs')    # first sheet → CBOs\n",
        "leas_raw = pd.read_excel(excel_filename, sheet_name='LEAs')    # second sheet → LEAs\n",
        "lwdas_raw = pd.read_excel(excel_filename, sheet_name= 'LWDAs')   # third sheet → LWDAs"
      ],
      "metadata": {
        "id": "2KUIbLuqCqxJ"
      },
      "execution_count": 4,
      "outputs": []
    },
    {
      "cell_type": "code",
      "source": [
        "# 4) Define a Utility Function to Standardize Column Names & Trim Text\n",
        "# ---------------------------------------------------------------------\n",
        "def normalize_and_trim(df):\n",
        "    \"\"\"\n",
        "    - Strips whitespace from column names\n",
        "    - Replaces spaces and hyphens with underscores\n",
        "    - Converts to lowercase\n",
        "    - Trims leading/trailing whitespace in every text column\n",
        "    \"\"\"\n",
        "    df = df.copy()\n",
        "    # 4a) Normalize column headers\n",
        "    df.columns = (\n",
        "        df.columns\n",
        "          .str.strip()\n",
        "          .str.replace(\" \", \"_\")\n",
        "          .str.replace(\"-\", \"_\")\n",
        "          .str.lower()\n",
        "    )\n",
        "    # 4b) Trim whitespace in every object‐dtype (string) column\n",
        "    for col in df.select_dtypes(include=\"object\"):\n",
        "        df[col] = df[col].astype(str).str.strip()\n",
        "    return df\n",
        "\n",
        "# Apply normalization to each “raw” DataFrame\n",
        "cbos = normalize_and_trim(cbos_raw)\n",
        "leas = normalize_and_trim(leas_raw)\n",
        "lwdas = normalize_and_trim(lwdas_raw)\n",
        "\n",
        "# At this point:\n",
        "# - cbos.columns might look like:\n",
        "#   [ \"name\", \"counties\", \"lwda\", \"dir\", \"lco\", \"dosh\", \"edd\", \"alrb\",\n",
        "#     \"street_address\", \"city\", \"zip_code\", \"phone_number\", \"email\", \"contact_person\" ]\n",
        "#\n",
        "# - leas.columns might look like:\n",
        "#   [ \"lea_name\", \"street_address\", \"city\", \"zipcode\", \"area_covered\", \"contact\", \"phone\", \"email\" ]\n",
        "#\n",
        "# - lwdas.columns might look like:\n",
        "#   [ \"street_address\", \"city\", \"zipcode\", \"partner\", \"location_type\", \"phone\", \"email\" ]\n"
      ],
      "metadata": {
        "id": "9Wl-VUqaC7ky"
      },
      "execution_count": 5,
      "outputs": []
    },
    {
      "cell_type": "markdown",
      "source": [
        "## Clean LWDAs"
      ],
      "metadata": {
        "id": "BTvdjyAv-6KJ"
      }
    },
    {
      "cell_type": "code",
      "source": [
        "# 5) CLEAN THE LWDA SHEET\n",
        "# ------------------------\n",
        "# Raw columns (after normalization) should be:\n",
        "#   \"street_address\", \"city\", \"zipcode\", \"partner\", \"location_type\", \"phone\", \"email\"\n",
        "#\n",
        "# Desired final columns:\n",
        "#   type, name, county, affiliated_agency, street_address, city, zipcode, phone, email, contact, location_type\n",
        "\n",
        "# 5a) Rename to our target schema\n",
        "lwdas = lwdas.rename(columns={\n",
        "    \"partner\": \"name\",\n",
        "    \"street_address\": \"street_address\",\n",
        "    \"city\": \"city\",\n",
        "    \"zipcode\": \"zipcode\",\n",
        "    \"phone\": \"phone\",\n",
        "    \"email\": \"email\",\n",
        "    \"location_type\": \"location_type\"\n",
        "})\n"
      ],
      "metadata": {
        "id": "5U_hX0lxDA5i"
      },
      "execution_count": 6,
      "outputs": []
    },
    {
      "cell_type": "code",
      "source": [
        "# 5b) Create the “Type” column = \"LWDA\"\n",
        "lwdas['type'] = \"LWDA\"\n",
        "\n",
        "# 5c) Create “Affiliated_Agency” = same as “name”\n",
        "lwdas['affiliated_agency'] = lwdas['name']\n",
        "\n",
        "# 5d) If you have a separate mapping of Partner → County, you can insert it here.\n",
        "#     Otherwise, leave county blank (NaN). You can always fill in manually later in Excel/Tableau.\n",
        "lwdas['county'] = pd.NA\n",
        "\n",
        "# 5e) Add a “contact” column, even if blank, to match the final schema\n",
        "lwdas['contact'] = pd.NA\n"
      ],
      "metadata": {
        "id": "r6tRdnZwDIwB"
      },
      "execution_count": 7,
      "outputs": []
    },
    {
      "cell_type": "code",
      "source": [
        "# 5f) Reorder columns exactly as we want for “LWDA” entries\n",
        "lwdas_clean = lwdas[[\n",
        "    'type',\n",
        "    'name',\n",
        "    'county',\n",
        "    'affiliated_agency',\n",
        "    'street_address',\n",
        "    'city',\n",
        "    'zipcode',\n",
        "    'phone',\n",
        "    'email',\n",
        "    'contact',\n",
        "    'location_type'\n",
        "]]\n",
        "\n",
        "print(\"LWDA cleaned schema:\\n\", lwdas_clean.head(), \"\\n\")"
      ],
      "metadata": {
        "colab": {
          "base_uri": "https://localhost:8080/"
        },
        "id": "1bPcWnwbDLoo",
        "outputId": "8b2b4908-5c43-4fa0-ed58-d650d63ea63a"
      },
      "execution_count": 8,
      "outputs": [
        {
          "output_type": "stream",
          "name": "stdout",
          "text": [
            "LWDA cleaned schema:\n",
            "    type name county affiliated_agency           street_address           city  \\\n",
            "0  LWDA  LCO   <NA>               LCO           7718 Meany Ave    Bakersfield   \n",
            "1  LWDA  LCO   <NA>               LCO  7575 Metropolitan Drive      San Diego   \n",
            "2  LWDA  LCO   <NA>               LCO          1550 W. Main St      El Centro   \n",
            "3  LWDA  LCO   <NA>               LCO      455 Golden Gate Ave  San Francisco   \n",
            "4  LWDA  LCO   <NA>               LCO  770 E. Shaw Ave Ste 222         Fresno   \n",
            "\n",
            "   zipcode         phone                         email contact location_type  \n",
            "0    93308  661 587 3060  LaborComm.WCA.BAK@dir.ca.gov    <NA>  State Office  \n",
            "1    92108  619-220-5451  LaborComm.WCA.SDO@dir.ca.gov    <NA>  State Office  \n",
            "2    92243  760-353-0607                           nan    <NA>  State Office  \n",
            "3    94102  415-703-5300  LaborComm.WCA.SFO@dir.ca.gov    <NA>  State Office  \n",
            "4    93710  559-244-5340  LaborComm.WCA.FRE@dir.ca.gov    <NA>  State Office   \n",
            "\n"
          ]
        }
      ]
    },
    {
      "cell_type": "markdown",
      "source": [
        "## Clean LEAs"
      ],
      "metadata": {
        "id": "7vfSinkr-xtP"
      }
    },
    {
      "cell_type": "code",
      "source": [
        "# 6) CLEAN THE LEA SHEET\n",
        "# -----------------------\n",
        "# Raw columns (after normalization) should be something like:\n",
        "#   \"lea_name\", \"street_address\", \"city\", \"zipcode\", \"area_covered\", \"contact\", \"phone\", \"email\"\n",
        "#\n",
        "# Desired final columns:\n",
        "#   type, name, county, affiliated_agency, street_address, city, zipcode, phone, email, contact, area_covered\n",
        "\n",
        "# 6a) Rename to match our target schema\n",
        "leas = leas.rename(columns={\n",
        "    \"lea_name\": \"name\",\n",
        "    \"street_address\": \"street_address\",\n",
        "    \"city\": \"city\",\n",
        "    \"zipcode\": \"zipcode\",\n",
        "    \"area_covered\": \"area_covered\",\n",
        "    \"contact\": \"contact\",\n",
        "    \"phone\": \"phone\",\n",
        "    \"email\": \"email\"\n",
        "})\n"
      ],
      "metadata": {
        "id": "kVrMSUBdDk0y"
      },
      "execution_count": 9,
      "outputs": []
    },
    {
      "cell_type": "code",
      "source": [
        "# 6b) Create “Type” = \"LEA\"\n",
        "leas['type'] = \"LEA\"\n",
        "\n",
        "# 6c) Create \"Affiliated_Agency\" = same as “name”\n",
        "leas['affiliated_agency'] = leas['name']\n",
        "\n",
        "# 6d) If “area_covered” is exactly the county name, set county = area_covered\n",
        "#     Otherwise, you might need to parse it.\n",
        "#     For now, assume “area_covered” is one county (e.g. \"Alameda\").\n",
        "leas['county'] = leas['area_covered']\n",
        "\n",
        "# 6e) Reorder columns to match the final schema for LEA\n",
        "leas_clean = leas[[\n",
        "    'type',\n",
        "    'name',\n",
        "    'county',\n",
        "    'affiliated_agency',\n",
        "    'street_address',\n",
        "    'city',\n",
        "    'zipcode',\n",
        "    'phone',\n",
        "    'email',\n",
        "    'contact',\n",
        "    'area_covered'\n",
        "]]\n",
        "\n",
        "print(\"LEA cleaned schema:\\n\", leas_clean.head(), \"\\n\")\n"
      ],
      "metadata": {
        "colab": {
          "base_uri": "https://localhost:8080/"
        },
        "id": "UN18bb4FDnyy",
        "outputId": "6dc73045-6ccc-4610-e2cc-74e8c28d5f39"
      },
      "execution_count": 10,
      "outputs": [
        {
          "output_type": "stream",
          "name": "stdout",
          "text": [
            "LEA cleaned schema:\n",
            "   type                                         name             county  \\\n",
            "0  LEA                           Emergency Services   City of Gonzales   \n",
            "1  LEA                Environmental Health Services   San Mateo County   \n",
            "2  LEA                         Environmental Health    Monterey County   \n",
            "3  LEA                Environmental Health Division  Santa Cruz County   \n",
            "4  LEA  Planning, Building & Environmental Services        Napa County   \n",
            "\n",
            "                             affiliated_agency  \\\n",
            "0                           Emergency Services   \n",
            "1                Environmental Health Services   \n",
            "2                         Environmental Health   \n",
            "3                Environmental Health Division   \n",
            "4  Planning, Building & Environmental Services   \n",
            "\n",
            "                         street_address        city  zipcode         phone  \\\n",
            "0                        147 Fourth St.    Gonzales    93926  831-675-5000   \n",
            "1  2000 Alameda de las Pulgas, Ste. 100   San Mateo    94403  650-372-6200   \n",
            "2                    1270 Natividad Rd.     Salinas    93906  831-755-4508   \n",
            "3               701 Ocean St., Room 312  Santa Cruz    95060  831-454-2022   \n",
            "4              1195 Third St., Room 210        Napa    94559  707-253-4417   \n",
            "\n",
            "  email                          contact       area_covered  \n",
            "0   nan      Mark L. Hartunian, Director   City of Gonzales  \n",
            "1   nan        Heather Forshey, Director   San Mateo County  \n",
            "2   nan      Ric Encarnacion, \\nDirector    Monterey County  \n",
            "3   nan  Dr. Marilyn Underwood, Director  Santa Cruz County  \n",
            "4   nan       David Morrison, \\nDirector        Napa County   \n",
            "\n"
          ]
        }
      ]
    },
    {
      "cell_type": "markdown",
      "source": [
        "## Clean CBO Sheet"
      ],
      "metadata": {
        "id": "8tXF-9B7GEoB"
      }
    },
    {
      "cell_type": "code",
      "source": [
        "# 7) CLEAN THE CBO SHEET\n",
        "# -----------------------\n",
        "# Raw columns (after normalization) likely look like:\n",
        "#   \"name\", \"counties\", \"lwda\", \"dir\", \"lco\", \"dosh\", \"edd\", \"alrb\",\n",
        "#   \"street_address\", \"city\", \"zip_code\", \"phone_number\", \"email\", \"contact_person\"\n",
        "#\n",
        "# Steps:\n",
        "#   7a) Rename columns to our target schema\n",
        "#   7b) Split “counties” (comma‐separated) into separate rows\n",
        "#   7c) Unpivot the six agency columns → keep only rows where the flag is “X”\n",
        "#   7d) Add “Type” = \"CBO\"\n",
        "#   7e) Reorder columns to match final schema:\n",
        "#        type, name, county, affiliated_agency, street_address, city, zipcode, phone, email, contact\n",
        "\n",
        "# 7a) Rename:\n",
        "cbos = cbos.rename(columns={\n",
        "    \"name\": \"name\",\n",
        "    \"counties\": \"counties\",\n",
        "    \"lwda\": \"lwda\",\n",
        "    \"dir\": \"dir\",\n",
        "    \"lco\": \"lco\",\n",
        "    \"dosh\": \"dosh\",\n",
        "    \"edd\": \"edd\",\n",
        "    \"alrb\": \"alrb\",\n",
        "    \"street_address\": \"street_address\",\n",
        "    \"city\": \"city\",\n",
        "    \"zip_code\": \"zipcode\",\n",
        "    \"phone_number\": \"phone\",\n",
        "    \"email\": \"email\",\n",
        "    \"contact_person\": \"contact\"\n",
        "})"
      ],
      "metadata": {
        "id": "6doa-CrbEb-p"
      },
      "execution_count": 11,
      "outputs": []
    },
    {
      "cell_type": "code",
      "source": [
        "# 7b) Split “counties” string into a list and explode into separate rows\n",
        "#     so each CBO‐County becomes its own row\n",
        "#     (e.g. \"Alameda, Contra Costa\" → two rows: one with \"Alameda\", one with \"Contra Costa\")\n",
        "cbos['county'] = cbos['counties'].str.split(',')    # split on comma\n",
        "cbos = cbos.explode('county')                       # one row per county\n",
        "# Trim whitespace around each county name, and convert to Title Case\n",
        "cbos['county'] = cbos['county'].str.strip().str.title()\n",
        "\n",
        "# 7c) Unpivot the six affiliated‐agency columns [“lwda”, “dir”, “lco”, “dosh”, “edd”, “alrb”]\n",
        "agency_cols = ['lwda', 'dir', 'lco', 'dosh', 'edd', 'alrb']\n",
        "\n",
        "cbos_melted = (\n",
        "    cbos\n",
        "    .melt(\n",
        "        id_vars=['name', 'county', 'street_address', 'city', 'zipcode', 'phone', 'email', 'contact'],\n",
        "        value_vars=agency_cols,\n",
        "        var_name='affiliated_agency',\n",
        "        value_name='flag'\n",
        "    )\n",
        "    # Keep only rows where flag == \"X\" or \"x\"\n",
        "    .loc[lambda df: df['flag'].str.lower() == 'x']\n",
        "    .drop(columns=['flag'])\n",
        ")"
      ],
      "metadata": {
        "id": "1JUhrso4EfsZ"
      },
      "execution_count": 12,
      "outputs": []
    },
    {
      "cell_type": "code",
      "source": [
        "# 7d) Add “Type” = \"CBO\"\n",
        "cbos_melted['type'] = \"CBO\"\n",
        "\n",
        "# 7e) Reorder to our final CBO schema\n",
        "cbos_clean = cbos_melted[[\n",
        "    'type',\n",
        "    'name',\n",
        "    'county',\n",
        "    'affiliated_agency',\n",
        "    'street_address',\n",
        "    'city',\n",
        "    'zipcode',\n",
        "    'phone',\n",
        "    'email',\n",
        "    'contact'\n",
        "]]\n",
        "\n",
        "print(\"CBO cleaned schema (first 5 rows):\\n\", cbos_clean.head(), \"\\n\")"
      ],
      "metadata": {
        "colab": {
          "base_uri": "https://localhost:8080/"
        },
        "id": "0Gwo6UPREiQ5",
        "outputId": "e2f84b9d-f0a3-404a-f203-59c01a299ad2"
      },
      "execution_count": 13,
      "outputs": [
        {
          "output_type": "stream",
          "name": "stdout",
          "text": [
            "CBO cleaned schema (first 5 rows):\n",
            "     type                                               name      county  \\\n",
            "147  CBO       California Rural Legal Assistance Foundation      Fresno   \n",
            "148  CBO       California Rural Legal Assistance Foundation  Stanislaus   \n",
            "149  CBO            California Rural Legal Assistance, Inc.   Statewide   \n",
            "156  CBO                      Center for Community Advocacy    Monterey   \n",
            "172  CBO  Central Coast Alliance United for a Sustainabl...               \n",
            "\n",
            "    affiliated_agency              street_address           city  zipcode  \\\n",
            "147               dir    2210 K Street, Suite 201     Sacramento  95816.0   \n",
            "148               dir    2210 K Street, Suite 201     Sacramento  95816.0   \n",
            "149               dir  1430 Franklin St Suite 103        Oakland  94612.0   \n",
            "156               dir             22 W Gabilan St        Salinas  93901.0   \n",
            "172               dir       126 E. Haley St. #A17  Santa Barbara  93101.0   \n",
            "\n",
            "              phone              email           contact  \n",
            "147    916-446-7904     info@crlaf.org               nan  \n",
            "148    916-446-7904     info@crlaf.org               nan  \n",
            "149  (510) 267-0762                nan               nan  \n",
            "156   (831)753 2324  info@cca-viva.org               nan  \n",
            "172  (805) 850-3028                nan  Wendy Santamaria   \n",
            "\n"
          ]
        }
      ]
    },
    {
      "cell_type": "markdown",
      "source": [
        "## Combine All"
      ],
      "metadata": {
        "id": "HfHTC0JF_BI_"
      }
    },
    {
      "cell_type": "code",
      "source": [
        "# 8) COMBINE ALL THREE CLEANED TABLES into ONE MASTER\n",
        "# ----------------------------------------------------\n",
        "# The target schema for the master table is (in order):\n",
        "#   type, name, county, affiliated_agency, street_address, city, zipcode, phone, email, contact,\n",
        "#   [plus any sheet-specific fields: area_covered for LEA; location_type for LWDA]\n",
        "#\n",
        "# Since LEAs have “area_covered” and LWDAs have “location_type”, those columns will appear as NaN for the other types.\n",
        "# That’s fine—Tableau can handle blank values. If you want to drop them later, you can.\n",
        "\n",
        "master = pd.concat(\n",
        "    [\n",
        "        lwdas_clean,\n",
        "        leas_clean,\n",
        "        cbos_clean\n",
        "    ],\n",
        "    axis=0,\n",
        "    ignore_index=True,\n",
        "    sort=False  # keep columns in the order we specified\n",
        ")\n",
        "\n",
        "# Optional: Drop exact duplicates if any\n",
        "master = master.drop_duplicates()"
      ],
      "metadata": {
        "id": "MZqHc90aEtxP"
      },
      "execution_count": 14,
      "outputs": []
    },
    {
      "cell_type": "markdown",
      "source": [
        "## Tableau Formatting"
      ],
      "metadata": {
        "id": "82EV19oMGnCw"
      }
    },
    {
      "cell_type": "code",
      "source": [
        "\n",
        "# 9) Add “State” and/or Build a “Full_Address” Column\n",
        "# ---------------------------------------------------------------\n",
        "# If you want to let Tableau geocode by county + state, add:\n",
        "master['state'] = \"California\"\n",
        "\n",
        "# If you want Tableau to geocode street‐level pins, build a Full_Address:\n",
        "master['full_address'] = (\n",
        "    master['street_address'].fillna('') + \", \" +\n",
        "    master['city'].fillna('') + \", CA \" +\n",
        "    master['zipcode'].fillna('').astype(str)\n",
        ")\n"
      ],
      "metadata": {
        "id": "-POtry-9E18B"
      },
      "execution_count": 15,
      "outputs": []
    },
    {
      "cell_type": "markdown",
      "source": [
        "## Preview and Save to csv"
      ],
      "metadata": {
        "id": "Xm6voQGF_FQw"
      }
    },
    {
      "cell_type": "code",
      "source": [
        "\n",
        "# 10) SAVE THE MASTER TABLE as CSV (for Tableau)\n",
        "# ------------------------------------------------\n",
        "# This will create “All_Agencies_Master.csv” in your Colab environment,\n",
        "# which you can then download and point Tableau to.\n",
        "output_filename = \"All_Agencies_Master.csv\"\n",
        "master.to_csv(output_filename, index=False)\n",
        "print(f\"✔️  Master file written to: {output_filename}\")\n",
        "\n",
        "# 11) (Optional) Download the CSV directly from Colab to your local machine\n",
        "files.download(output_filename)\n",
        "\n",
        "# 12) QUICK SANITY CHECK: print out column names + row counts\n",
        "print(\"\\n--- Master Schema & Row Counts ---\")\n",
        "print(\"Columns:\", master.columns.tolist())\n",
        "print(\"Total Rows:\", len(master))\n",
        "print(\"\\nSample rows:\\n\", master.head(10))\n"
      ],
      "metadata": {
        "colab": {
          "base_uri": "https://localhost:8080/",
          "height": 974
        },
        "id": "77CcL8SxB9NZ",
        "outputId": "46cc2c72-2427-41bb-ec53-997b80fd6271"
      },
      "execution_count": 16,
      "outputs": [
        {
          "output_type": "stream",
          "name": "stdout",
          "text": [
            "✔️  Master file written to: All_Agencies_Master.csv\n"
          ]
        },
        {
          "output_type": "display_data",
          "data": {
            "text/plain": [
              "<IPython.core.display.Javascript object>"
            ],
            "application/javascript": [
              "\n",
              "    async function download(id, filename, size) {\n",
              "      if (!google.colab.kernel.accessAllowed) {\n",
              "        return;\n",
              "      }\n",
              "      const div = document.createElement('div');\n",
              "      const label = document.createElement('label');\n",
              "      label.textContent = `Downloading \"${filename}\": `;\n",
              "      div.appendChild(label);\n",
              "      const progress = document.createElement('progress');\n",
              "      progress.max = size;\n",
              "      div.appendChild(progress);\n",
              "      document.body.appendChild(div);\n",
              "\n",
              "      const buffers = [];\n",
              "      let downloaded = 0;\n",
              "\n",
              "      const channel = await google.colab.kernel.comms.open(id);\n",
              "      // Send a message to notify the kernel that we're ready.\n",
              "      channel.send({})\n",
              "\n",
              "      for await (const message of channel.messages) {\n",
              "        // Send a message to notify the kernel that we're ready.\n",
              "        channel.send({})\n",
              "        if (message.buffers) {\n",
              "          for (const buffer of message.buffers) {\n",
              "            buffers.push(buffer);\n",
              "            downloaded += buffer.byteLength;\n",
              "            progress.value = downloaded;\n",
              "          }\n",
              "        }\n",
              "      }\n",
              "      const blob = new Blob(buffers, {type: 'application/binary'});\n",
              "      const a = document.createElement('a');\n",
              "      a.href = window.URL.createObjectURL(blob);\n",
              "      a.download = filename;\n",
              "      div.appendChild(a);\n",
              "      a.click();\n",
              "      div.remove();\n",
              "    }\n",
              "  "
            ]
          },
          "metadata": {}
        },
        {
          "output_type": "display_data",
          "data": {
            "text/plain": [
              "<IPython.core.display.Javascript object>"
            ],
            "application/javascript": [
              "download(\"download_aa7754de-f041-4e89-bb46-2ace52c3f07d\", \"All_Agencies_Master.csv\", 54191)"
            ]
          },
          "metadata": {}
        },
        {
          "output_type": "stream",
          "name": "stdout",
          "text": [
            "\n",
            "--- Master Schema & Row Counts ---\n",
            "Columns: ['type', 'name', 'county', 'affiliated_agency', 'street_address', 'city', 'zipcode', 'phone', 'email', 'contact', 'location_type', 'area_covered', 'state', 'full_address']\n",
            "Total Rows: 312\n",
            "\n",
            "Sample rows:\n",
            "    type name county affiliated_agency                     street_address  \\\n",
            "0  LWDA  LCO    NaN               LCO                     7718 Meany Ave   \n",
            "1  LWDA  LCO    NaN               LCO            7575 Metropolitan Drive   \n",
            "2  LWDA  LCO    NaN               LCO                    1550 W. Main St   \n",
            "3  LWDA  LCO    NaN               LCO                455 Golden Gate Ave   \n",
            "4  LWDA  LCO    NaN               LCO            770 E. Shaw Ave Ste 222   \n",
            "5  LWDA  LCO    NaN               LCO  100 Paseo De San Antonio Room 120   \n",
            "6  LWDA  LCO    NaN               LCO              1500 Hughes Way C-202   \n",
            "7  LWDA  LCO    NaN               LCO          2 Macarthur Place Ste 800   \n",
            "8  LWDA  LCO    NaN               LCO           320 W. Fourth St Ste 450   \n",
            "9  LWDA  LCO    NaN               LCO        411 E. Canon Perdido Room 3   \n",
            "\n",
            "            city  zipcode         phone                         email contact  \\\n",
            "0    Bakersfield  93308.0  661 587 3060  LaborComm.WCA.BAK@dir.ca.gov     NaN   \n",
            "1      San Diego  92108.0  619-220-5451  LaborComm.WCA.SDO@dir.ca.gov     NaN   \n",
            "2      El Centro  92243.0  760-353-0607                           nan     NaN   \n",
            "3  San Francisco  94102.0  415-703-5300  LaborComm.WCA.SFO@dir.ca.gov     NaN   \n",
            "4         Fresno  93710.0  559-244-5340  LaborComm.WCA.FRE@dir.ca.gov     NaN   \n",
            "5       San Jose  95113.0  408-277-1266  LaborComm.WCA.SJO@dir.ca.gov     NaN   \n",
            "6     Long Beach  90810.0  562-590-5048  LaborComm.WCA.LBO@dir.ca.gov     NaN   \n",
            "7      Santa Ana  92707.0  714-558-4910  LaborComm.WCA.ANA@dir.ca.gov     NaN   \n",
            "8    Los Angeles  90013.0  213-620-6330  LaborComm.WCA.LAO@dir.ca.gov     NaN   \n",
            "9  Santa Barbara  93101.0  805-568-1222  LaborComm.WCA.SBA@dir.ca.gov     NaN   \n",
            "\n",
            "  location_type area_covered       state  \\\n",
            "0  State Office          NaN  California   \n",
            "1  State Office          NaN  California   \n",
            "2  State Office          NaN  California   \n",
            "3  State Office          NaN  California   \n",
            "4  State Office          NaN  California   \n",
            "5  State Office          NaN  California   \n",
            "6  State Office          NaN  California   \n",
            "7  State Office          NaN  California   \n",
            "8  State Office          NaN  California   \n",
            "9  State Office          NaN  California   \n",
            "\n",
            "                                        full_address  \n",
            "0            7718 Meany Ave, Bakersfield, CA 93308.0  \n",
            "1     7575 Metropolitan Drive, San Diego, CA 92108.0  \n",
            "2             1550 W. Main St, El Centro, CA 92243.0  \n",
            "3     455 Golden Gate Ave, San Francisco, CA 94102.0  \n",
            "4        770 E. Shaw Ave Ste 222, Fresno, CA 93710.0  \n",
            "5  100 Paseo De San Antonio Room 120, San Jose, C...  \n",
            "6      1500 Hughes Way C-202, Long Beach, CA 90810.0  \n",
            "7   2 Macarthur Place Ste 800, Santa Ana, CA 92707.0  \n",
            "8  320 W. Fourth St Ste 450, Los Angeles, CA 90013.0  \n",
            "9  411 E. Canon Perdido Room 3, Santa Barbara, CA...  \n"
          ]
        }
      ]
    },
    {
      "cell_type": "code",
      "source": [
        "import re\n",
        "csv_filename = \"All_Agencies_Master.csv\"\n",
        "\n",
        "# Read it into pandas\n",
        "df = pd.read_csv(csv_filename, dtype=str)  # read everything as str to avoid surprises\n",
        "print(\"Original row count:\", len(df))\n",
        "print(\"Columns:\", df.columns.tolist())\n",
        "\n",
        "# 3) Define a Function to Clean “Street_Address”\n",
        "# ------------------------------------------------\n",
        "def clean_address(addr: str) -> str:\n",
        "    \"\"\"\n",
        "    - Remove any non-printable/control characters\n",
        "    - Remove odd Unicode characters outside basic ASCII\n",
        "    - Collapse multiple spaces into one\n",
        "    - Strip leading/trailing whitespace\n",
        "    \"\"\"\n",
        "    if pd.isna(addr):\n",
        "        return \"\"\n",
        "    # 3a) Ensure it's a Python str\n",
        "    s = str(addr)\n",
        "    # 3b) Remove control characters: keep only printable ASCII (U+0020 to U+007E) plus common punctuation\n",
        "    #     [\\x20-\\x7E] covers space through tilde. We’ll allow commas, periods, #, -, /, and letters/numbers.\n",
        "    s = re.sub(r\"[^\\x20-\\x7E]\", \" \", s)\n",
        "    # 3c) Remove any stray multiple spaces\n",
        "    s = re.sub(r\"\\s+\", \" \", s)\n",
        "    return s.strip()\n",
        "\n",
        "# 4) Define a Function to Standardize “Phone”\n",
        "# ---------------------------------------------\n",
        "def clean_phone_number(phone: str) -> str:\n",
        "    \"\"\"\n",
        "    - Strip out all non-digit characters\n",
        "    - If 10 digits remain, format as (XXX) XXX-XXXX\n",
        "    - If 11 digits and leading '1', drop the '1' and format the remaining 10 digits\n",
        "    - Otherwise, return the digits string unformatted\n",
        "    \"\"\"\n",
        "    if pd.isna(phone):\n",
        "        return \"\"\n",
        "    s = str(phone)\n",
        "    # 4a) Extract digits only\n",
        "    digits = re.sub(r\"\\D\", \"\", s)\n",
        "    # 4b) If leading country code “1” + 10 digits, drop leading 1\n",
        "    if len(digits) == 11 and digits.startswith(\"1\"):\n",
        "        digits = digits[1:]\n",
        "    # 4c) If exactly 10 digits, format as (XXX) XXX-XXXX\n",
        "    if len(digits) == 10:\n",
        "        return f\"({digits[0:3]}) {digits[3:6]}-{digits[6:10]}\"\n",
        "    # 4d) Otherwise, just return whatever digits are left (so you can spot anomalies)\n",
        "    return digits\n",
        "\n",
        "# 5) Apply Cleaning Functions to the DataFrame\n",
        "# ----------------------------------------------\n",
        "# Make copies of the original columns, just in case\n",
        "df[\"Street_Address_Original\"] = df.get(\"street_address\", \"\").fillna(\"\")\n",
        "df[\"Phone_Original\"] = df.get(\"phone\", \"\").fillna(\"\")\n",
        "\n",
        "# 5a) Clean “street_address”\n",
        "df[\"street_address\"] = df[\"street_address\"].apply(clean_address)\n",
        "\n",
        "# 5b) Clean “phone”\n",
        "df[\"phone\"] = df[\"phone\"].apply(clean_phone_number)\n",
        "\n",
        "# 5c) (Optional) If you want to similarly clean “City” or “Email”, you can apply .str.strip() or lowercasing:\n",
        "# df[\"city\"] = df[\"city\"].str.strip().str.title()\n",
        "# df[\"email\"] = df[\"email\"].str.strip().str.lower()\n",
        "\n",
        "# 6) Inspect a Few Examples to Confirm\n",
        "# --------------------------------------\n",
        "print(\"\\n--- Sample Before & After Cleaning ---\")\n",
        "preview = df[[\n",
        "    \"Street_Address_Original\", \"street_address\",\n",
        "    \"Phone_Original\", \"phone\"\n",
        "]].head(10)\n",
        "print(preview.to_string(index=False))\n",
        "\n",
        "# 7) Write Out a New “Cleaned” CSV\n",
        "# ---------------------------------\n",
        "output_filename = \"All_Agencies_Master_Cleaned.csv\"\n",
        "df.to_csv(output_filename, index=False)\n",
        "print(f\"\\n✔️  Cleaned CSV written to: {output_filename}\")\n",
        "\n",
        "# 8) Download the Cleaned CSV to Your Local Machine\n",
        "# ---------------------------------------------------\n",
        "files.download(output_filename)\n"
      ],
      "metadata": {
        "colab": {
          "base_uri": "https://localhost:8080/",
          "height": 332
        },
        "id": "V_EYVY5nPrKy",
        "outputId": "bdcd319d-3012-41c0-8a6a-cb5f1e5a1cea"
      },
      "execution_count": 18,
      "outputs": [
        {
          "output_type": "stream",
          "name": "stdout",
          "text": [
            "Original row count: 312\n",
            "Columns: ['type', 'name', 'county', 'affiliated_agency', 'street_address', 'city', 'zipcode', 'phone', 'email', 'contact', 'location_type', 'area_covered', 'state', 'full_address']\n",
            "\n",
            "--- Sample Before & After Cleaning ---\n",
            "          Street_Address_Original                    street_address Phone_Original          phone\n",
            "                   7718 Meany Ave                    7718 Meany Ave   661 587 3060 (661) 587-3060\n",
            "          7575 Metropolitan Drive           7575 Metropolitan Drive   619-220-5451 (619) 220-5451\n",
            "                  1550 W. Main St                   1550 W. Main St   760-353-0607 (760) 353-0607\n",
            "              455 Golden Gate Ave               455 Golden Gate Ave   415-703-5300 (415) 703-5300\n",
            "          770 E. Shaw Ave Ste 222           770 E. Shaw Ave Ste 222   559-244-5340 (559) 244-5340\n",
            "100 Paseo De San Antonio Room 120 100 Paseo De San Antonio Room 120   408-277-1266 (408) 277-1266\n",
            "            1500 Hughes Way C-202             1500 Hughes Way C-202   562-590-5048 (562) 590-5048\n",
            "        2 Macarthur Place Ste 800         2 Macarthur Place Ste 800   714-558-4910 (714) 558-4910\n",
            "         320 W. Fourth St Ste 450          320 W. Fourth St Ste 450   213-620-6330 (213) 620-6330\n",
            "      411 E. Canon Perdido Room 3       411 E. Canon Perdido Room 3   805-568-1222 (805) 568-1222\n",
            "\n",
            "✔️  Cleaned CSV written to: All_Agencies_Master_Cleaned.csv\n"
          ]
        },
        {
          "output_type": "display_data",
          "data": {
            "text/plain": [
              "<IPython.core.display.Javascript object>"
            ],
            "application/javascript": [
              "\n",
              "    async function download(id, filename, size) {\n",
              "      if (!google.colab.kernel.accessAllowed) {\n",
              "        return;\n",
              "      }\n",
              "      const div = document.createElement('div');\n",
              "      const label = document.createElement('label');\n",
              "      label.textContent = `Downloading \"${filename}\": `;\n",
              "      div.appendChild(label);\n",
              "      const progress = document.createElement('progress');\n",
              "      progress.max = size;\n",
              "      div.appendChild(progress);\n",
              "      document.body.appendChild(div);\n",
              "\n",
              "      const buffers = [];\n",
              "      let downloaded = 0;\n",
              "\n",
              "      const channel = await google.colab.kernel.comms.open(id);\n",
              "      // Send a message to notify the kernel that we're ready.\n",
              "      channel.send({})\n",
              "\n",
              "      for await (const message of channel.messages) {\n",
              "        // Send a message to notify the kernel that we're ready.\n",
              "        channel.send({})\n",
              "        if (message.buffers) {\n",
              "          for (const buffer of message.buffers) {\n",
              "            buffers.push(buffer);\n",
              "            downloaded += buffer.byteLength;\n",
              "            progress.value = downloaded;\n",
              "          }\n",
              "        }\n",
              "      }\n",
              "      const blob = new Blob(buffers, {type: 'application/binary'});\n",
              "      const a = document.createElement('a');\n",
              "      a.href = window.URL.createObjectURL(blob);\n",
              "      a.download = filename;\n",
              "      div.appendChild(a);\n",
              "      a.click();\n",
              "      div.remove();\n",
              "    }\n",
              "  "
            ]
          },
          "metadata": {}
        },
        {
          "output_type": "display_data",
          "data": {
            "text/plain": [
              "<IPython.core.display.Javascript object>"
            ],
            "application/javascript": [
              "download(\"download_ed81615b-ccda-452a-94c6-102da3e2e55f\", \"All_Agencies_Master_Cleaned.csv\", 64075)"
            ]
          },
          "metadata": {}
        }
      ]
    }
  ]
}